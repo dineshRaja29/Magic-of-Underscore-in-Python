{
  "nbformat": 4,
  "nbformat_minor": 0,
  "metadata": {
    "colab": {
      "provenance": [],
      "authorship_tag": "ABX9TyMWfpfwnYs/bsf38EDdfLX1",
      "include_colab_link": true
    },
    "kernelspec": {
      "name": "python3",
      "display_name": "Python 3"
    },
    "language_info": {
      "name": "python"
    }
  },
  "cells": [
    {
      "cell_type": "markdown",
      "metadata": {
        "id": "view-in-github",
        "colab_type": "text"
      },
      "source": [
        "<a href=\"https://colab.research.google.com/github/dineshRaja29/Magic-of-Underscore-in-Python/blob/main/MagicOfUnderscoreInPython.ipynb\" target=\"_parent\"><img src=\"https://colab.research.google.com/assets/colab-badge.svg\" alt=\"Open In Colab\"/></a>"
      ]
    },
    {
      "cell_type": "markdown",
      "metadata": {
        "id": "0bcmtrb9Vy1P"
      },
      "source": [
        "# <b><font color = 'green'>Meaning of Underscore in Python </font></b>\n",
        "1. Use In Interpreter\n",
        "\n",
        "2. Ignoring Values\n",
        "\n",
        "3. Use In Looping\n",
        "\n",
        "4. Separating Digits Of Numbers\n",
        "\n",
        "5. Naming\n",
        "\n",
        "\t5.1. Single Pre Underscore\n",
        "\n",
        "\t5.2. Single Post Underscore\n",
        "\n",
        "\t5.3. Single Pre and Post Underscore\n",
        "\n",
        "\t5.4. Double Pre Undescores\n",
        "\n",
        "\t5.5. Double Post Underscore\n",
        "\n",
        "\t5.6. Double Pre And Post Underscores\n",
        "\n",
        "\n",
        "\n"
      ]
    },
    {
      "cell_type": "markdown",
      "metadata": {
        "id": "3O1ej7ifXtu2"
      },
      "source": [
        "## <b><font color = 'green'>1. Use In Interpreter </font></b>\n",
        "\n",
        "Python automatically stores the value of the last expression in the interpreter to a particular variable called \"_.\" You can also assign these value to another variable if you want.\n"
      ]
    },
    {
      "cell_type": "code",
      "metadata": {
        "colab": {
          "base_uri": "https://localhost:8080/"
        },
        "id": "_A3oeDCpXs7q",
        "outputId": "010bfe59-20ed-4ee5-ca2f-591c1e501e0c"
      },
      "source": [
        "4 + 5"
      ],
      "execution_count": null,
      "outputs": [
        {
          "output_type": "execute_result",
          "data": {
            "text/plain": [
              "9"
            ]
          },
          "metadata": {},
          "execution_count": 1
        }
      ]
    },
    {
      "cell_type": "code",
      "metadata": {
        "colab": {
          "base_uri": "https://localhost:8080/"
        },
        "id": "qnONj2pRYE80",
        "outputId": "8f1d8671-0527-453a-c2e5-87cf6a26e72c"
      },
      "source": [
        "_ # holding the value of the last expression in the interpreter to a particular variable"
      ],
      "execution_count": null,
      "outputs": [
        {
          "output_type": "execute_result",
          "data": {
            "text/plain": [
              "9"
            ]
          },
          "metadata": {},
          "execution_count": 2
        }
      ]
    },
    {
      "cell_type": "code",
      "metadata": {
        "id": "RVG9mxCNYQ2u"
      },
      "source": [
        "a = 4 + 6"
      ],
      "execution_count": null,
      "outputs": []
    },
    {
      "cell_type": "code",
      "metadata": {
        "colab": {
          "base_uri": "https://localhost:8080/"
        },
        "id": "90VPiwsFVtjV",
        "outputId": "5691facb-c995-46c8-905e-18f687c0db7f"
      },
      "source": [
        "print(a, _) # value of the last expression in not in the interpreter due to which the underscore\n",
        "            # is not modified"
      ],
      "execution_count": null,
      "outputs": [
        {
          "output_type": "stream",
          "name": "stdout",
          "text": [
            "10 9\n"
          ]
        }
      ]
    },
    {
      "cell_type": "code",
      "metadata": {
        "colab": {
          "base_uri": "https://localhost:8080/"
        },
        "id": "BncG50EyYYy7",
        "outputId": "658d9090-26bd-4a20-e924-141a64860828"
      },
      "source": [
        "_ + 12"
      ],
      "execution_count": null,
      "outputs": [
        {
          "output_type": "execute_result",
          "data": {
            "text/plain": [
              "21"
            ]
          },
          "metadata": {},
          "execution_count": 5
        }
      ]
    },
    {
      "cell_type": "code",
      "metadata": {
        "colab": {
          "base_uri": "https://localhost:8080/"
        },
        "id": "-S-MfWmXYnAz",
        "outputId": "c87a67a9-1570-44b0-8c77-6a433c13b384"
      },
      "source": [
        "_ # value is override because last expression was 9 + 12"
      ],
      "execution_count": null,
      "outputs": [
        {
          "output_type": "execute_result",
          "data": {
            "text/plain": [
              "21"
            ]
          },
          "metadata": {},
          "execution_count": 6
        }
      ]
    },
    {
      "cell_type": "markdown",
      "metadata": {
        "id": "HlYkCoFIYtPk"
      },
      "source": [
        "## <b><font color = 'green'> 2. Ignoring Values</font></b>\n",
        "Underscore(\\_) is also used to ignore the values. If you don't want to use specific values while unpacking, just assign that value to underscore(\\_).\n",
        "\n",
        "Ignoring means assigning the values to special variable underscore(\\_). We're assigning the values to underscore(\\_) given not using that in future code.\n"
      ]
    },
    {
      "cell_type": "code",
      "metadata": {
        "colab": {
          "base_uri": "https://localhost:8080/"
        },
        "id": "_FcOWcL2ZOv0",
        "outputId": "1daad28b-5343-43c9-ac52-31f899284dd4"
      },
      "source": [
        "a, _, b = (1,2,3)\n",
        "print(a, _, b) #ignoring the value of _ here"
      ],
      "execution_count": null,
      "outputs": [
        {
          "output_type": "stream",
          "name": "stdout",
          "text": [
            "1 2 3\n"
          ]
        }
      ]
    },
    {
      "cell_type": "code",
      "metadata": {
        "colab": {
          "base_uri": "https://localhost:8080/"
        },
        "id": "4WtfK3-pbc9g",
        "outputId": "1f163e2f-e7db-489b-c399-83a58a440742"
      },
      "source": [
        "# extending the unpacking\n",
        "# _ will become the list of values\n",
        "a, *_, b = (1, 2, 3, 4, 5, 6, 7, 8, 9)\n",
        "print(a, _, b)"
      ],
      "execution_count": null,
      "outputs": [
        {
          "output_type": "stream",
          "name": "stdout",
          "text": [
            "1 [2, 3, 4, 5, 6, 7, 8] 9\n"
          ]
        }
      ]
    },
    {
      "cell_type": "markdown",
      "metadata": {
        "id": "Ofgg41rMcEhM"
      },
      "source": [
        "## <font color = 'green'><b>3. Use In Looping</b> </font>\n",
        "Used to store the output of the and variable inside of loop"
      ]
    },
    {
      "cell_type": "code",
      "metadata": {
        "colab": {
          "base_uri": "https://localhost:8080/"
        },
        "id": "4X_VKWv2cCzA",
        "outputId": "92b06510-1b66-4e5f-acd9-4aa00b679c52"
      },
      "source": [
        "for _ in range(5):\n",
        "  print(_)"
      ],
      "execution_count": null,
      "outputs": [
        {
          "output_type": "stream",
          "name": "stdout",
          "text": [
            "0\n",
            "1\n",
            "2\n",
            "3\n",
            "4\n"
          ]
        }
      ]
    },
    {
      "cell_type": "code",
      "metadata": {
        "colab": {
          "base_uri": "https://localhost:8080/"
        },
        "id": "nvxtKgZEcktZ",
        "outputId": "ef7fff77-92bd-4ada-be73-5bafa0112166"
      },
      "source": [
        "names = ['dinesh', 'raja', 'buswala']\n",
        "for _ in names:\n",
        "  print(_)"
      ],
      "execution_count": null,
      "outputs": [
        {
          "output_type": "stream",
          "name": "stdout",
          "text": [
            "dinesh\n",
            "raja\n",
            "buswala\n"
          ]
        }
      ]
    },
    {
      "cell_type": "code",
      "metadata": {
        "colab": {
          "base_uri": "https://localhost:8080/"
        },
        "id": "HvV8EpdVc6zO",
        "outputId": "525477c7-2913-47f6-94c8-a75f065077d0"
      },
      "source": [
        "_ = 5\n",
        "while _ < 10:\n",
        "  print(_ , end = ' ') # new syntax\n",
        "  _ += 1 # value update"
      ],
      "execution_count": null,
      "outputs": [
        {
          "output_type": "stream",
          "name": "stdout",
          "text": [
            "5 6 7 8 9 "
          ]
        }
      ]
    },
    {
      "cell_type": "markdown",
      "metadata": {
        "id": "ZHfA-PG-yV7e"
      },
      "source": [
        "## <font color = 'green'><b>4. Separating Digits Of Numbers</b></font>\n",
        "\n",
        "If you have a long digits number, you can separate the group of digits as you like for better understanding."
      ]
    },
    {
      "cell_type": "code",
      "source": [
        "# general way of writing binary, octal and hexadecimal\n",
        "binary = 0b0010\n",
        "octal = 0o64\n",
        "hex = 0x23ab\n",
        "print(binary)\n",
        "print(octal)\n",
        "print(hex)"
      ],
      "metadata": {
        "colab": {
          "base_uri": "https://localhost:8080/"
        },
        "id": "D_cQX_fVKC7w",
        "outputId": "5c073b5c-27d3-4b21-e51b-d022c7cd1c8f"
      },
      "execution_count": null,
      "outputs": [
        {
          "output_type": "stream",
          "name": "stdout",
          "text": [
            "2\n",
            "52\n",
            "9131\n"
          ]
        }
      ]
    },
    {
      "cell_type": "code",
      "metadata": {
        "colab": {
          "base_uri": "https://localhost:8080/"
        },
        "id": "8sQCYnI7yDp-",
        "outputId": "8307bddc-bdc7-429d-db68-0f70ad7a6ace"
      },
      "source": [
        "# different number system\n",
        "million = 1_000_000 # 10 lakh equal to 1 million\n",
        "binary = 0b_0010\n",
        "octal = 0o_64\n",
        "hex = 0x_23_ab\n",
        "print(million)\n",
        "print(binary)\n",
        "print(octal)\n",
        "print(hex)"
      ],
      "execution_count": null,
      "outputs": [
        {
          "output_type": "stream",
          "text": [
            "1000000\n",
            "2\n",
            "52\n",
            "9131\n"
          ],
          "name": "stdout"
        }
      ]
    },
    {
      "cell_type": "markdown",
      "metadata": {
        "id": "H-eAwBxAzyW0"
      },
      "source": [
        "##<font color = 'green'><b>5. Naming Using Underscore(_)</b></font>"
      ]
    },
    {
      "cell_type": "markdown",
      "metadata": {
        "id": "t0tgu_fKz8WN"
      },
      "source": [
        "### <font color = 'green'><b>5.1. Single Pre Underscore</b></font>"
      ]
    },
    {
      "cell_type": "markdown",
      "source": [
        "* It is a convention (a suggestion, not a rule) that says: \"This variable is meant for internal use only.\"\n",
        "\n",
        "* Don't confused by thinking like it is private.\n",
        "\n",
        "* Generally used for variables which might change in future and debugging easy.\n",
        "\n",
        "\n"
      ],
      "metadata": {
        "id": "1ZuDR9jQRCTE"
      }
    },
    {
      "cell_type": "code",
      "metadata": {
        "id": "K-H6Q3Oi0LW3",
        "colab": {
          "base_uri": "https://localhost:8080/"
        },
        "outputId": "9c523a11-bbed-48cb-a808-a5b4433888db"
      },
      "source": [
        "class Details:\n",
        "    def __init__(self, name = 'dinesh', age = 32):\n",
        "        self.name = name\n",
        "        self._age = age\n",
        "\n",
        "\n",
        "details = Details()\n",
        "print(details.name)\n",
        "print(details._age)"
      ],
      "execution_count": null,
      "outputs": [
        {
          "output_type": "stream",
          "name": "stdout",
          "text": [
            "dinesh\n",
            "32\n"
          ]
        }
      ]
    },
    {
      "cell_type": "code",
      "source": [
        "%%writefile my_variables.py\n",
        "name = \"dinesh\"\n",
        "_age = 32\n",
        "\n",
        "\n",
        "def func():\n",
        "    return \"dinesh\"\n",
        "\n",
        "def _private_func():\n",
        "    return 32\n",
        "# after runing this cell, it create my_variables.py in current directory"
      ],
      "metadata": {
        "colab": {
          "base_uri": "https://localhost:8080/"
        },
        "id": "3hw2K6PlRlUO",
        "outputId": "4effe6da-71e3-4c56-fb92-fd18ae95ba2e"
      },
      "execution_count": null,
      "outputs": [
        {
          "output_type": "stream",
          "name": "stdout",
          "text": [
            "Writing my_variables.py\n"
          ]
        }
      ]
    },
    {
      "cell_type": "code",
      "source": [
        "from my_variables import *"
      ],
      "metadata": {
        "id": "XI0CchsgSuOo"
      },
      "execution_count": null,
      "outputs": []
    },
    {
      "cell_type": "code",
      "source": [
        "print(name)"
      ],
      "metadata": {
        "colab": {
          "base_uri": "https://localhost:8080/"
        },
        "id": "W-gVMTdUTfER",
        "outputId": "06dd19f8-4d70-4293-a155-d9f398b0aa50"
      },
      "execution_count": null,
      "outputs": [
        {
          "output_type": "stream",
          "name": "stdout",
          "text": [
            "dinesh\n"
          ]
        }
      ]
    },
    {
      "cell_type": "code",
      "source": [
        "print(age)"
      ],
      "metadata": {
        "colab": {
          "base_uri": "https://localhost:8080/",
          "height": 148
        },
        "id": "3CtLSuJlUgKZ",
        "outputId": "18150e58-93fd-47e5-d69f-19e632884397"
      },
      "execution_count": null,
      "outputs": [
        {
          "output_type": "error",
          "ename": "NameError",
          "evalue": "name 'age' is not defined",
          "traceback": [
            "\u001b[0;31m---------------------------------------------------------------------------\u001b[0m",
            "\u001b[0;31mNameError\u001b[0m                                 Traceback (most recent call last)",
            "\u001b[0;32m/tmp/ipython-input-8-2798478222.py\u001b[0m in \u001b[0;36m<cell line: 0>\u001b[0;34m()\u001b[0m\n\u001b[0;32m----> 1\u001b[0;31m \u001b[0mprint\u001b[0m\u001b[0;34m(\u001b[0m\u001b[0mage\u001b[0m\u001b[0;34m)\u001b[0m\u001b[0;34m\u001b[0m\u001b[0;34m\u001b[0m\u001b[0m\n\u001b[0m",
            "\u001b[0;31mNameError\u001b[0m: name 'age' is not defined"
          ]
        }
      ]
    },
    {
      "cell_type": "code",
      "source": [
        "print(func())"
      ],
      "metadata": {
        "colab": {
          "base_uri": "https://localhost:8080/"
        },
        "id": "J-Ci7SttVAWy",
        "outputId": "3094282d-c3b2-4fc6-812e-ce91ca7ed53d"
      },
      "execution_count": null,
      "outputs": [
        {
          "output_type": "stream",
          "name": "stdout",
          "text": [
            "dinesh\n"
          ]
        }
      ]
    },
    {
      "cell_type": "code",
      "source": [
        "print(_private_func())"
      ],
      "metadata": {
        "colab": {
          "base_uri": "https://localhost:8080/",
          "height": 148
        },
        "id": "NIbYRTXLVCE_",
        "outputId": "6daad021-1c1f-4a31-f4fb-36e45c4cdd14"
      },
      "execution_count": null,
      "outputs": [
        {
          "output_type": "error",
          "ename": "NameError",
          "evalue": "name '_private_func' is not defined",
          "traceback": [
            "\u001b[0;31m---------------------------------------------------------------------------\u001b[0m",
            "\u001b[0;31mNameError\u001b[0m                                 Traceback (most recent call last)",
            "\u001b[0;32m/tmp/ipython-input-10-1172626434.py\u001b[0m in \u001b[0;36m<cell line: 0>\u001b[0;34m()\u001b[0m\n\u001b[0;32m----> 1\u001b[0;31m \u001b[0mprint\u001b[0m\u001b[0;34m(\u001b[0m\u001b[0m_private_func\u001b[0m\u001b[0;34m(\u001b[0m\u001b[0;34m)\u001b[0m\u001b[0;34m)\u001b[0m\u001b[0;34m\u001b[0m\u001b[0;34m\u001b[0m\u001b[0m\n\u001b[0m",
            "\u001b[0;31mNameError\u001b[0m: name '_private_func' is not defined"
          ]
        }
      ]
    },
    {
      "cell_type": "code",
      "source": [
        "import my_variables\n",
        "print(my_variables.name)\n",
        "print(my_variables._age)\n",
        "print(my_variables.func())\n",
        "print(my_variables._private_func())\n",
        "\n",
        "# can access all of them by using module name and varibale/function:\n",
        "# Seems like if variable change in future then debuggin easy"
      ],
      "metadata": {
        "colab": {
          "base_uri": "https://localhost:8080/"
        },
        "id": "Rt0NuVZaVFAX",
        "outputId": "3fa5f903-c046-4541-fb8a-1f01d03e4049"
      },
      "execution_count": null,
      "outputs": [
        {
          "output_type": "stream",
          "name": "stdout",
          "text": [
            "dinesh\n",
            "32\n",
            "dinesh\n",
            "32\n"
          ]
        }
      ]
    },
    {
      "cell_type": "markdown",
      "source": [
        "### <font color = 'green'><b>5.2. Single Post Underscore</b></font>"
      ],
      "metadata": {
        "id": "YwD_CDANYwnM"
      }
    },
    {
      "cell_type": "markdown",
      "source": [
        "Used to avoid conflicts with Python keywords or other existing names."
      ],
      "metadata": {
        "id": "8_uSf8jMaWwS"
      }
    },
    {
      "cell_type": "markdown",
      "source": [
        "* Some Keywords:\n",
        "    * class, def, lambda, for, if, else, return, etc\n",
        "\n",
        "* If we use these keywords as a variable then it cause error\n",
        "\n",
        "* To use them safely, single post underscore is the obvious choice\n",
        "    * class_, def_, lambda_, for_, if_, else_, return_"
      ],
      "metadata": {
        "id": "lMOa88lja23V"
      }
    },
    {
      "cell_type": "markdown",
      "source": [
        "### <font color = 'green'><b>5.3. Single Pre and Post Underscore</b></font>"
      ],
      "metadata": {
        "id": "gmVdJiCGb6Ai"
      }
    },
    {
      "cell_type": "markdown",
      "source": [
        "* No such guidlines in the language for single pre and post underscore"
      ],
      "metadata": {
        "id": "d42nxLtOcD3E"
      }
    },
    {
      "cell_type": "markdown",
      "source": [
        "### <font color = 'green'><b>5.4. Double Pre Undescores</b></font>"
      ],
      "metadata": {
        "id": "IeA4uUL3uCP_"
      }
    },
    {
      "cell_type": "markdown",
      "source": [
        "* Double Pre Underscores are used for the name mangling.\n",
        "\n",
        "* Double Pre Underscores tells the Python interpreter to rewrite the attribute name of subclasses to avoid naming conflicts.\n",
        "\n",
        "* Given class name as 'ClassName' and variable name as '\\_\\_var', python internally changes the name of the variable (\\_\\_var) to _ClassName__var. This is done to avoid accidental overrides in subclasses and to indicate the variable is intended to be private."
      ],
      "metadata": {
        "id": "Uv3bnvmYwk1m"
      }
    },
    {
      "cell_type": "markdown",
      "source": [
        "**Note:** Python broadly have two types of access modifiers, public and non-public [not like C++ or java where they have public, private and protected]"
      ],
      "metadata": {
        "id": "bFGe_PDzxOPv"
      }
    },
    {
      "cell_type": "code",
      "source": [
        "class Sample():\n",
        "    def __init__(self):\n",
        "        self.a = 1\n",
        "        self._b = 2\n",
        "        self.__c = 3\n",
        "\n",
        "    def greet():\n",
        "        return \"Hello\"\n",
        "\n",
        "obj1 = Sample()\n",
        "for element in dir(obj1):\n",
        "    print(element)"
      ],
      "metadata": {
        "colab": {
          "base_uri": "https://localhost:8080/"
        },
        "id": "SAsxA8-wwj-7",
        "outputId": "3a310cb3-54db-4331-b499-5fe97229f545"
      },
      "execution_count": 27,
      "outputs": [
        {
          "output_type": "stream",
          "name": "stdout",
          "text": [
            "_Sample__c\n",
            "__class__\n",
            "__delattr__\n",
            "__dict__\n",
            "__dir__\n",
            "__doc__\n",
            "__eq__\n",
            "__format__\n",
            "__ge__\n",
            "__getattribute__\n",
            "__getstate__\n",
            "__gt__\n",
            "__hash__\n",
            "__init__\n",
            "__init_subclass__\n",
            "__le__\n",
            "__lt__\n",
            "__module__\n",
            "__ne__\n",
            "__new__\n",
            "__reduce__\n",
            "__reduce_ex__\n",
            "__repr__\n",
            "__setattr__\n",
            "__sizeof__\n",
            "__str__\n",
            "__subclasshook__\n",
            "__weakref__\n",
            "_b\n",
            "a\n",
            "greet\n"
          ]
        }
      ]
    },
    {
      "cell_type": "markdown",
      "source": [
        "Observe: variable \"\\_\\_c\" changed to \"\\_Sample\\_\\_c\""
      ],
      "metadata": {
        "id": "MpgSS0I2yCNz"
      }
    },
    {
      "cell_type": "code",
      "source": [
        "class SecondClass(Sample):\n",
        "\n",
        "    def __init__(self):\n",
        "        super().__init__()\n",
        "        self.a = \"overridden\"\n",
        "        self._b = \"overridden\"\n",
        "        self.__c = \"overridden\"\n",
        "obj2 = SecondClass()\n",
        "\n",
        "for element in dir(obj2):\n",
        "    print(element)"
      ],
      "metadata": {
        "id": "IYeofKMbeecg",
        "colab": {
          "base_uri": "https://localhost:8080/"
        },
        "outputId": "d59b88b9-d22f-4874-adc3-8310d5b8bcb5"
      },
      "execution_count": 28,
      "outputs": [
        {
          "output_type": "stream",
          "name": "stdout",
          "text": [
            "_Sample__c\n",
            "_SecondClass__c\n",
            "__class__\n",
            "__delattr__\n",
            "__dict__\n",
            "__dir__\n",
            "__doc__\n",
            "__eq__\n",
            "__format__\n",
            "__ge__\n",
            "__getattribute__\n",
            "__getstate__\n",
            "__gt__\n",
            "__hash__\n",
            "__init__\n",
            "__init_subclass__\n",
            "__le__\n",
            "__lt__\n",
            "__module__\n",
            "__ne__\n",
            "__new__\n",
            "__reduce__\n",
            "__reduce_ex__\n",
            "__repr__\n",
            "__setattr__\n",
            "__sizeof__\n",
            "__str__\n",
            "__subclasshook__\n",
            "__weakref__\n",
            "_b\n",
            "a\n",
            "greet\n"
          ]
        }
      ]
    },
    {
      "cell_type": "markdown",
      "source": [
        "Observation: Two variables \"\\_Sample\\_\\_c\" and \"\\_SecondClass\\_\\_c\" added however we can't see \"\\_\\_c\".\n",
        "\n",
        "Why ?\n",
        "* \"\\_Sample\\_\\_c\" because we inherit the base class\n",
        "* \"\\_SecondClass\\_\\_c\" because we are using the double underscore variable of base class."
      ],
      "metadata": {
        "id": "XmPQU3JJyu4I"
      }
    },
    {
      "cell_type": "code",
      "source": [
        "_SimpleClass__name = \"dinesh\"\n",
        "\n",
        "class SimpleClass:\n",
        "\n",
        "    def return_name(self):\n",
        "        return __name\n",
        "\n",
        "obj = SimpleClass()\n",
        "print(obj.return_name()) ## it prints the __name variable"
      ],
      "metadata": {
        "colab": {
          "base_uri": "https://localhost:8080/"
        },
        "id": "vDQWOxmFynGS",
        "outputId": "f39bd176-0d55-44b3-c845-770714acf4fc"
      },
      "execution_count": 29,
      "outputs": [
        {
          "output_type": "stream",
          "name": "stdout",
          "text": [
            "dinesh\n"
          ]
        }
      ]
    },
    {
      "cell_type": "markdown",
      "source": [
        "* The double underscore variable is replaced by _ClassName__var."
      ],
      "metadata": {
        "id": "kmTZWYXR09en"
      }
    },
    {
      "cell_type": "markdown",
      "source": [
        "### <font color = 'green'><b>5.5. Double Post Undescores</b></font>"
      ],
      "metadata": {
        "id": "ihPbqm-a1z8X"
      }
    },
    {
      "cell_type": "markdown",
      "source": [
        "A name ending in double underscores (but not starting with them) — e.g., var__ — has no special meaning in Python. It's not a convention recognized by the language."
      ],
      "metadata": {
        "id": "zayoy9tK10kb"
      }
    },
    {
      "cell_type": "markdown",
      "source": [
        "### <font color = 'green'><b>5.6. Double Pre and Post Undescores</b></font>"
      ],
      "metadata": {
        "id": "k8LYRqOV2BRu"
      }
    },
    {
      "cell_type": "markdown",
      "source": [
        "* Reserved for special methods or attributes that are defined by the Python language itself.\n",
        "* Also called  magic methods or dunder methods."
      ],
      "metadata": {
        "id": "gdMxI1732h6N"
      }
    },
    {
      "cell_type": "markdown",
      "source": [
        "* \\_\\_len\\_\\_: Defines behavior of len(obj)\n",
        "* \\_\\_getitem\\_\\_: Allows obj[key] indexing\n",
        "* \\_\\_str\\_\\_: Defines string representation (str(obj))"
      ],
      "metadata": {
        "id": "MYKEoFyj4tTA"
      }
    },
    {
      "cell_type": "code",
      "source": [
        "__name__"
      ],
      "metadata": {
        "colab": {
          "base_uri": "https://localhost:8080/",
          "height": 36
        },
        "id": "fDu27_1Z08Bq",
        "outputId": "fe44bb34-2df0-4866-c835-cc5492781fea"
      },
      "execution_count": 34,
      "outputs": [
        {
          "output_type": "execute_result",
          "data": {
            "text/plain": [
              "'__main__'"
            ],
            "application/vnd.google.colaboratory.intrinsic+json": {
              "type": "string"
            }
          },
          "metadata": {},
          "execution_count": 34
        }
      ]
    },
    {
      "cell_type": "code",
      "source": [
        "globals()"
      ],
      "metadata": {
        "colab": {
          "base_uri": "https://localhost:8080/"
        },
        "id": "HlTGcOL73UZr",
        "outputId": "ff6ee448-0c9f-4abc-bec9-3792fae469d0"
      },
      "execution_count": 35,
      "outputs": [
        {
          "output_type": "execute_result",
          "data": {
            "text/plain": [
              "{'__name__': '__main__',\n",
              " '__doc__': 'Automatically created module for IPython interactive environment',\n",
              " '__package__': None,\n",
              " '__loader__': None,\n",
              " '__spec__': None,\n",
              " '__builtin__': <module 'builtins' (built-in)>,\n",
              " '__builtins__': <module 'builtins' (built-in)>,\n",
              " '_ih': ['',\n",
              "  'get_ipython().run_cell_magic(\\'writefile\\', \\'my_variables.py\\', \\'name = \"dinesh\"\\\\n_age = 32\\\\n\\\\n\\\\ndef func():\\\\n    return \"dinesh\"\\\\n\\\\ndef _private_func():\\\\n    return 32\\\\n# after runing this cell, it create my_variables.py in current directory\\\\n\\')',\n",
              "  'from my_variables import *',\n",
              "  'name',\n",
              "  '_age',\n",
              "  'func()',\n",
              "  '_private_func()',\n",
              "  'print(name)',\n",
              "  'print(age)',\n",
              "  'print(func())',\n",
              "  'print(_private_func())',\n",
              "  'import my_variables\\nprint(my_variables.name)\\nprint(my_variables._age)\\nprint(my_variables.func())\\nprint(my_variables._private_func())',\n",
              "  '_class = 10',\n",
              "  'class Sample():\\n    def __init__(self):\\n        self.a = 1\\n        self._b = 2\\n        self.__c = 3\\n\\nobj1 = Sample()\\nprint(dir(obj1))',\n",
              "  \"class Sample():\\n    def __init__(self):\\n        self.a = 1\\n        self._b = 2\\n        self.__c = 3\\n\\nobj1 = Sample()\\nprint(dir(obj1), end = ' ')\",\n",
              "  \"class Sample():\\n    def __init__(self):\\n        self.a = 1\\n        self._b = 2\\n        self.__c = 3\\n\\nobj1 = Sample()\\nprint(dir(obj1), end = '\\\\n')\",\n",
              "  'class Sample():\\n    def __init__(self):\\n        self.a = 1\\n        self._b = 2\\n        self.__c = 3\\n\\nobj1 = Sample()\\nfor element in dir(obj1):\\n    print(element)',\n",
              "  'class SecondClass(Sample):\\n\\n    def __init__(self):\\n        super().__init__()\\n        self.a = \"overridden\"\\n        self._b = \"overridden\"\\n        self.__c = \"overridden\"\\nobj2 = SecondClass()\\n\\nfor element in dir(obj2):\\n    print(element)',\n",
              "  'class SecondClass(Sample):\\n\\n    def __init__(self):\\n        super().__init__()\\n        self.a = \"overridden\"\\n        self._b = \"overridden\"\\n        #self.__c = \"overridden\"\\nobj2 = SecondClass()\\n\\nfor element in dir(obj2):\\n    print(element)',\n",
              "  'class SecondClass(Sample):\\n\\n    def __init__(self):\\n        super().__init__()\\n        # self.a = \"overridden\"\\n        # self._b = \"overridden\"\\n        # #self.__c = \"overridden\"\\nobj2 = SecondClass()\\n\\nfor element in dir(obj2):\\n    print(element)',\n",
              "  'class SecondClass(Sample):\\n\\n    def __init__(self):\\n        super().__init__()\\n        self.a = \"overridden\"\\n        self._b = \"overridden\"\\n        self.__c = \"overridden\"\\nobj2 = SecondClass()\\n\\nfor element in dir(obj2):\\n    print(element)',\n",
              "  'class Sample():\\n    def __init__(self):\\n        self.a = 1\\n        self._b = 2\\n        self.__c = 3\\n    \\n    def greet():\\n        return \"Hello\"\\n\\nobj1 = Sample()\\nfor element in dir(obj1):\\n    print(element)',\n",
              "  'class SecondClass(Sample):\\n\\n    def __init__(self):\\n        super().__init__()\\n        self.a = \"overridden\"\\n        self._b = \"overridden\"\\n        self.__c = \"overridden\"\\nobj2 = SecondClass()\\n\\nfor element in dir(obj2):\\n    print(element)',\n",
              "  'class SecondClass(Sample):\\n\\n    def __init__(self):\\n        super().__init__()\\n        self.a = \"overridden\"\\n        self._b = \"overridden\"\\n        # self.__c = \"overridden\"\\nobj2 = SecondClass()\\n\\nfor element in dir(obj2):\\n    print(element)',\n",
              "  'class SecondClass(Sample):\\n\\n    def __init__(self):\\n        super().__init__()\\n        self.a = \"overridden\"\\n        self._b = \"overridden\"\\n        self.__c = \"overridden\"\\nobj2 = SecondClass()\\n\\nfor element in dir(obj2):\\n    print(element)',\n",
              "  '_SimpleClass__name = \"datacamp\"\\n\\nclass SimpleClass:\\n\\n    def return_name(self):\\n        return __name\\n\\nobj = SimpleClass()\\nprint(obj.return_name()) ## it prints the __name variable',\n",
              "  '_SimpleClass__name = \"dinesh\"\\n\\nclass SimpleClass:\\n\\n    def return_name(self):\\n        return __name\\n\\nobj = SimpleClass()\\nprint(obj.return_name()) ## it prints the __name variable',\n",
              "  'class Sample():\\n    def __init__(self):\\n        self.a = 1\\n        self._b = 2\\n        self.__c = 3\\n    \\n    def greet():\\n        return \"Hello\"\\n\\nobj1 = Sample()\\nfor element in dir(obj1):\\n    print(element)',\n",
              "  'class SecondClass(Sample):\\n\\n    def __init__(self):\\n        super().__init__()\\n        self.a = \"overridden\"\\n        self._b = \"overridden\"\\n        self.__c = \"overridden\"\\nobj2 = SecondClass()\\n\\nfor element in dir(obj2):\\n    print(element)',\n",
              "  '_SimpleClass__name = \"dinesh\"\\n\\nclass SimpleClass:\\n\\n    def return_name(self):\\n        return __name\\n\\nobj = SimpleClass()\\nprint(obj.return_name()) ## it prints the __name variable',\n",
              "  'str(obj1)',\n",
              "  '__name__',\n",
              "  'locals',\n",
              "  'locals()',\n",
              "  '__name__',\n",
              "  'globals()'],\n",
              " '_oh': {3: 'dinesh',\n",
              "  5: 'dinesh',\n",
              "  30: '<__main__.Sample object at 0x7f622b5bdd90>',\n",
              "  31: '__main__',\n",
              "  32: <function locals()>,\n",
              "  33: {...},\n",
              "  34: '__main__'},\n",
              " '_dh': ['/content'],\n",
              " 'In': ['',\n",
              "  'get_ipython().run_cell_magic(\\'writefile\\', \\'my_variables.py\\', \\'name = \"dinesh\"\\\\n_age = 32\\\\n\\\\n\\\\ndef func():\\\\n    return \"dinesh\"\\\\n\\\\ndef _private_func():\\\\n    return 32\\\\n# after runing this cell, it create my_variables.py in current directory\\\\n\\')',\n",
              "  'from my_variables import *',\n",
              "  'name',\n",
              "  '_age',\n",
              "  'func()',\n",
              "  '_private_func()',\n",
              "  'print(name)',\n",
              "  'print(age)',\n",
              "  'print(func())',\n",
              "  'print(_private_func())',\n",
              "  'import my_variables\\nprint(my_variables.name)\\nprint(my_variables._age)\\nprint(my_variables.func())\\nprint(my_variables._private_func())',\n",
              "  '_class = 10',\n",
              "  'class Sample():\\n    def __init__(self):\\n        self.a = 1\\n        self._b = 2\\n        self.__c = 3\\n\\nobj1 = Sample()\\nprint(dir(obj1))',\n",
              "  \"class Sample():\\n    def __init__(self):\\n        self.a = 1\\n        self._b = 2\\n        self.__c = 3\\n\\nobj1 = Sample()\\nprint(dir(obj1), end = ' ')\",\n",
              "  \"class Sample():\\n    def __init__(self):\\n        self.a = 1\\n        self._b = 2\\n        self.__c = 3\\n\\nobj1 = Sample()\\nprint(dir(obj1), end = '\\\\n')\",\n",
              "  'class Sample():\\n    def __init__(self):\\n        self.a = 1\\n        self._b = 2\\n        self.__c = 3\\n\\nobj1 = Sample()\\nfor element in dir(obj1):\\n    print(element)',\n",
              "  'class SecondClass(Sample):\\n\\n    def __init__(self):\\n        super().__init__()\\n        self.a = \"overridden\"\\n        self._b = \"overridden\"\\n        self.__c = \"overridden\"\\nobj2 = SecondClass()\\n\\nfor element in dir(obj2):\\n    print(element)',\n",
              "  'class SecondClass(Sample):\\n\\n    def __init__(self):\\n        super().__init__()\\n        self.a = \"overridden\"\\n        self._b = \"overridden\"\\n        #self.__c = \"overridden\"\\nobj2 = SecondClass()\\n\\nfor element in dir(obj2):\\n    print(element)',\n",
              "  'class SecondClass(Sample):\\n\\n    def __init__(self):\\n        super().__init__()\\n        # self.a = \"overridden\"\\n        # self._b = \"overridden\"\\n        # #self.__c = \"overridden\"\\nobj2 = SecondClass()\\n\\nfor element in dir(obj2):\\n    print(element)',\n",
              "  'class SecondClass(Sample):\\n\\n    def __init__(self):\\n        super().__init__()\\n        self.a = \"overridden\"\\n        self._b = \"overridden\"\\n        self.__c = \"overridden\"\\nobj2 = SecondClass()\\n\\nfor element in dir(obj2):\\n    print(element)',\n",
              "  'class Sample():\\n    def __init__(self):\\n        self.a = 1\\n        self._b = 2\\n        self.__c = 3\\n    \\n    def greet():\\n        return \"Hello\"\\n\\nobj1 = Sample()\\nfor element in dir(obj1):\\n    print(element)',\n",
              "  'class SecondClass(Sample):\\n\\n    def __init__(self):\\n        super().__init__()\\n        self.a = \"overridden\"\\n        self._b = \"overridden\"\\n        self.__c = \"overridden\"\\nobj2 = SecondClass()\\n\\nfor element in dir(obj2):\\n    print(element)',\n",
              "  'class SecondClass(Sample):\\n\\n    def __init__(self):\\n        super().__init__()\\n        self.a = \"overridden\"\\n        self._b = \"overridden\"\\n        # self.__c = \"overridden\"\\nobj2 = SecondClass()\\n\\nfor element in dir(obj2):\\n    print(element)',\n",
              "  'class SecondClass(Sample):\\n\\n    def __init__(self):\\n        super().__init__()\\n        self.a = \"overridden\"\\n        self._b = \"overridden\"\\n        self.__c = \"overridden\"\\nobj2 = SecondClass()\\n\\nfor element in dir(obj2):\\n    print(element)',\n",
              "  '_SimpleClass__name = \"datacamp\"\\n\\nclass SimpleClass:\\n\\n    def return_name(self):\\n        return __name\\n\\nobj = SimpleClass()\\nprint(obj.return_name()) ## it prints the __name variable',\n",
              "  '_SimpleClass__name = \"dinesh\"\\n\\nclass SimpleClass:\\n\\n    def return_name(self):\\n        return __name\\n\\nobj = SimpleClass()\\nprint(obj.return_name()) ## it prints the __name variable',\n",
              "  'class Sample():\\n    def __init__(self):\\n        self.a = 1\\n        self._b = 2\\n        self.__c = 3\\n    \\n    def greet():\\n        return \"Hello\"\\n\\nobj1 = Sample()\\nfor element in dir(obj1):\\n    print(element)',\n",
              "  'class SecondClass(Sample):\\n\\n    def __init__(self):\\n        super().__init__()\\n        self.a = \"overridden\"\\n        self._b = \"overridden\"\\n        self.__c = \"overridden\"\\nobj2 = SecondClass()\\n\\nfor element in dir(obj2):\\n    print(element)',\n",
              "  '_SimpleClass__name = \"dinesh\"\\n\\nclass SimpleClass:\\n\\n    def return_name(self):\\n        return __name\\n\\nobj = SimpleClass()\\nprint(obj.return_name()) ## it prints the __name variable',\n",
              "  'str(obj1)',\n",
              "  '__name__',\n",
              "  'locals',\n",
              "  'locals()',\n",
              "  '__name__',\n",
              "  'globals()'],\n",
              " 'Out': {3: 'dinesh',\n",
              "  5: 'dinesh',\n",
              "  30: '<__main__.Sample object at 0x7f622b5bdd90>',\n",
              "  31: '__main__',\n",
              "  32: <function locals()>,\n",
              "  33: {...},\n",
              "  34: '__main__'},\n",
              " 'get_ipython': <bound method InteractiveShell.get_ipython of <google.colab._shell.Shell object at 0x7f6264f1b490>>,\n",
              " 'exit': <IPython.core.autocall.ZMQExitAutocall at 0x7f6264f2e910>,\n",
              " 'quit': <IPython.core.autocall.ZMQExitAutocall at 0x7f6264f2e910>,\n",
              " '_': '__main__',\n",
              " '__': {...},\n",
              " '___': <function locals()>,\n",
              " '_i': '__name__',\n",
              " '_ii': 'locals()',\n",
              " '_iii': 'locals',\n",
              " '_i1': '%%writefile my_variables.py\\nname = \"dinesh\"\\n_age = 32\\n\\n\\ndef func():\\n    return \"dinesh\"\\n\\ndef _private_func():\\n    return 32\\n# after runing this cell, it create my_variables.py in current directory',\n",
              " '_i2': 'from my_variables import *',\n",
              " 'name': 'dinesh',\n",
              " 'func': <function my_variables.func()>,\n",
              " '_i3': 'name',\n",
              " '_3': 'dinesh',\n",
              " '_i4': '_age',\n",
              " '_i5': 'func()',\n",
              " '_5': 'dinesh',\n",
              " '_i6': '_private_func()',\n",
              " '_i7': 'print(name)',\n",
              " '_i8': 'print(age)',\n",
              " '_i9': 'print(func())',\n",
              " '_i10': 'print(_private_func())',\n",
              " '_i11': 'import my_variables\\nprint(my_variables.name)\\nprint(my_variables._age)\\nprint(my_variables.func())\\nprint(my_variables._private_func())',\n",
              " 'my_variables': <module 'my_variables' from '/content/my_variables.py'>,\n",
              " '_i12': '_class = 10',\n",
              " '_class': 10,\n",
              " '_i13': 'class Sample():\\n    def __init__(self):\\n        self.a = 1\\n        self._b = 2\\n        self.__c = 3\\n\\nobj1 = Sample()\\nprint(dir(obj1))',\n",
              " 'Sample': __main__.Sample,\n",
              " 'obj1': <__main__.Sample at 0x7f622b5bdd90>,\n",
              " '_i14': \"class Sample():\\n    def __init__(self):\\n        self.a = 1\\n        self._b = 2\\n        self.__c = 3\\n\\nobj1 = Sample()\\nprint(dir(obj1), end = ' ')\",\n",
              " '_i15': \"class Sample():\\n    def __init__(self):\\n        self.a = 1\\n        self._b = 2\\n        self.__c = 3\\n\\nobj1 = Sample()\\nprint(dir(obj1), end = '\\\\n')\",\n",
              " '_i16': 'class Sample():\\n    def __init__(self):\\n        self.a = 1\\n        self._b = 2\\n        self.__c = 3\\n\\nobj1 = Sample()\\nfor element in dir(obj1):\\n    print(element)',\n",
              " 'element': 'greet',\n",
              " '_i17': 'class SecondClass(Sample):\\n\\n    def __init__(self):\\n        super().__init__()\\n        self.a = \"overridden\"\\n        self._b = \"overridden\"\\n        self.__c = \"overridden\"\\nobj2 = SecondClass()\\n\\nfor element in dir(obj2):\\n    print(element)',\n",
              " 'SecondClass': __main__.SecondClass,\n",
              " 'obj2': <__main__.SecondClass at 0x7f622b5bfe90>,\n",
              " '_i18': 'class SecondClass(Sample):\\n\\n    def __init__(self):\\n        super().__init__()\\n        self.a = \"overridden\"\\n        self._b = \"overridden\"\\n        #self.__c = \"overridden\"\\nobj2 = SecondClass()\\n\\nfor element in dir(obj2):\\n    print(element)',\n",
              " '_i19': 'class SecondClass(Sample):\\n\\n    def __init__(self):\\n        super().__init__()\\n        # self.a = \"overridden\"\\n        # self._b = \"overridden\"\\n        # #self.__c = \"overridden\"\\nobj2 = SecondClass()\\n\\nfor element in dir(obj2):\\n    print(element)',\n",
              " '_i20': 'class SecondClass(Sample):\\n\\n    def __init__(self):\\n        super().__init__()\\n        self.a = \"overridden\"\\n        self._b = \"overridden\"\\n        self.__c = \"overridden\"\\nobj2 = SecondClass()\\n\\nfor element in dir(obj2):\\n    print(element)',\n",
              " '_i21': 'class Sample():\\n    def __init__(self):\\n        self.a = 1\\n        self._b = 2\\n        self.__c = 3\\n    \\n    def greet():\\n        return \"Hello\"\\n\\nobj1 = Sample()\\nfor element in dir(obj1):\\n    print(element)',\n",
              " '_i22': 'class SecondClass(Sample):\\n\\n    def __init__(self):\\n        super().__init__()\\n        self.a = \"overridden\"\\n        self._b = \"overridden\"\\n        self.__c = \"overridden\"\\nobj2 = SecondClass()\\n\\nfor element in dir(obj2):\\n    print(element)',\n",
              " '_i23': 'class SecondClass(Sample):\\n\\n    def __init__(self):\\n        super().__init__()\\n        self.a = \"overridden\"\\n        self._b = \"overridden\"\\n        # self.__c = \"overridden\"\\nobj2 = SecondClass()\\n\\nfor element in dir(obj2):\\n    print(element)',\n",
              " '_i24': 'class SecondClass(Sample):\\n\\n    def __init__(self):\\n        super().__init__()\\n        self.a = \"overridden\"\\n        self._b = \"overridden\"\\n        self.__c = \"overridden\"\\nobj2 = SecondClass()\\n\\nfor element in dir(obj2):\\n    print(element)',\n",
              " '_i25': '_SimpleClass__name = \"datacamp\"\\n\\nclass SimpleClass:\\n\\n    def return_name(self):\\n        return __name\\n\\nobj = SimpleClass()\\nprint(obj.return_name()) ## it prints the __name variable',\n",
              " '_SimpleClass__name': 'dinesh',\n",
              " 'SimpleClass': __main__.SimpleClass,\n",
              " 'obj': <__main__.SimpleClass at 0x7f622b5bc390>,\n",
              " '_i26': '_SimpleClass__name = \"dinesh\"\\n\\nclass SimpleClass:\\n\\n    def return_name(self):\\n        return __name\\n\\nobj = SimpleClass()\\nprint(obj.return_name()) ## it prints the __name variable',\n",
              " '_i27': 'class Sample():\\n    def __init__(self):\\n        self.a = 1\\n        self._b = 2\\n        self.__c = 3\\n    \\n    def greet():\\n        return \"Hello\"\\n\\nobj1 = Sample()\\nfor element in dir(obj1):\\n    print(element)',\n",
              " '_i28': 'class SecondClass(Sample):\\n\\n    def __init__(self):\\n        super().__init__()\\n        self.a = \"overridden\"\\n        self._b = \"overridden\"\\n        self.__c = \"overridden\"\\nobj2 = SecondClass()\\n\\nfor element in dir(obj2):\\n    print(element)',\n",
              " '_i29': '_SimpleClass__name = \"dinesh\"\\n\\nclass SimpleClass:\\n\\n    def return_name(self):\\n        return __name\\n\\nobj = SimpleClass()\\nprint(obj.return_name()) ## it prints the __name variable',\n",
              " '_i30': 'str(obj1)',\n",
              " '_30': '<__main__.Sample object at 0x7f622b5bdd90>',\n",
              " '_i31': '__name__',\n",
              " '_31': '__main__',\n",
              " '_i32': 'locals',\n",
              " '_32': <function locals()>,\n",
              " '_i33': 'locals()',\n",
              " '_33': {...},\n",
              " '_i34': '__name__',\n",
              " '_34': '__main__',\n",
              " '_i35': 'globals()'}"
            ]
          },
          "metadata": {},
          "execution_count": 35
        }
      ]
    },
    {
      "cell_type": "code",
      "source": [],
      "metadata": {
        "id": "Z1UEdF8o35v8"
      },
      "execution_count": null,
      "outputs": []
    }
  ]
}